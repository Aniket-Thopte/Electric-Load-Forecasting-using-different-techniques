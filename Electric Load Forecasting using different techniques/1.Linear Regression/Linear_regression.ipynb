{
 "cells": [
  {
   "cell_type": "markdown",
   "metadata": {},
   "source": [
    "### Project  by Aniket Amar Thopte\n"
   ]
  },
  {
   "cell_type": "markdown",
   "metadata": {},
   "source": [
    "###### The problem statement deals with hourly load forecasting. We have been given dataset from 2002 to 2005 (i.e. 4 years data) on hourly basis. I have used Simple Linear Regression technique for forecasting the load for 2006 year on hourly basis. "
   ]
  },
  {
   "cell_type": "code",
   "execution_count": 1,
   "metadata": {},
   "outputs": [],
   "source": [
    "import numpy as np\n",
    "import pandas as pd\n",
    "import matplotlib.pyplot as plt\n",
    "import seaborn as sb\n",
    "\n",
    "df=pd.read_csv(\"History.csv\")"
   ]
  },
  {
   "cell_type": "code",
   "execution_count": 2,
   "metadata": {},
   "outputs": [
    {
     "data": {
      "text/html": [
       "<div>\n",
       "<style scoped>\n",
       "    .dataframe tbody tr th:only-of-type {\n",
       "        vertical-align: middle;\n",
       "    }\n",
       "\n",
       "    .dataframe tbody tr th {\n",
       "        vertical-align: top;\n",
       "    }\n",
       "\n",
       "    .dataframe thead th {\n",
       "        text-align: right;\n",
       "    }\n",
       "</style>\n",
       "<table border=\"1\" class=\"dataframe\">\n",
       "  <thead>\n",
       "    <tr style=\"text-align: right;\">\n",
       "      <th></th>\n",
       "      <th>Date</th>\n",
       "      <th>Hour</th>\n",
       "      <th>Temperature</th>\n",
       "      <th>Load</th>\n",
       "    </tr>\n",
       "  </thead>\n",
       "  <tbody>\n",
       "    <tr>\n",
       "      <td>0</td>\n",
       "      <td>1-Jan-02</td>\n",
       "      <td>1</td>\n",
       "      <td>54.86</td>\n",
       "      <td>1031754.25</td>\n",
       "    </tr>\n",
       "    <tr>\n",
       "      <td>1</td>\n",
       "      <td>1-Jan-02</td>\n",
       "      <td>2</td>\n",
       "      <td>54.23</td>\n",
       "      <td>996580.00</td>\n",
       "    </tr>\n",
       "    <tr>\n",
       "      <td>2</td>\n",
       "      <td>1-Jan-02</td>\n",
       "      <td>3</td>\n",
       "      <td>53.72</td>\n",
       "      <td>968291.00</td>\n",
       "    </tr>\n",
       "    <tr>\n",
       "      <td>3</td>\n",
       "      <td>1-Jan-02</td>\n",
       "      <td>4</td>\n",
       "      <td>53.38</td>\n",
       "      <td>963509.75</td>\n",
       "    </tr>\n",
       "    <tr>\n",
       "      <td>4</td>\n",
       "      <td>1-Jan-02</td>\n",
       "      <td>5</td>\n",
       "      <td>52.91</td>\n",
       "      <td>983291.25</td>\n",
       "    </tr>\n",
       "    <tr>\n",
       "      <td>5</td>\n",
       "      <td>1-Jan-02</td>\n",
       "      <td>6</td>\n",
       "      <td>52.51</td>\n",
       "      <td>1029652.50</td>\n",
       "    </tr>\n",
       "    <tr>\n",
       "      <td>6</td>\n",
       "      <td>1-Jan-02</td>\n",
       "      <td>7</td>\n",
       "      <td>51.80</td>\n",
       "      <td>1100430.00</td>\n",
       "    </tr>\n",
       "    <tr>\n",
       "      <td>7</td>\n",
       "      <td>1-Jan-02</td>\n",
       "      <td>8</td>\n",
       "      <td>52.08</td>\n",
       "      <td>1192213.75</td>\n",
       "    </tr>\n",
       "    <tr>\n",
       "      <td>8</td>\n",
       "      <td>1-Jan-02</td>\n",
       "      <td>9</td>\n",
       "      <td>55.28</td>\n",
       "      <td>1282886.75</td>\n",
       "    </tr>\n",
       "    <tr>\n",
       "      <td>9</td>\n",
       "      <td>1-Jan-02</td>\n",
       "      <td>10</td>\n",
       "      <td>59.47</td>\n",
       "      <td>1307903.00</td>\n",
       "    </tr>\n",
       "    <tr>\n",
       "      <td>10</td>\n",
       "      <td>1-Jan-02</td>\n",
       "      <td>11</td>\n",
       "      <td>64.05</td>\n",
       "      <td>1288101.50</td>\n",
       "    </tr>\n",
       "    <tr>\n",
       "      <td>11</td>\n",
       "      <td>1-Jan-02</td>\n",
       "      <td>12</td>\n",
       "      <td>66.52</td>\n",
       "      <td>1247768.00</td>\n",
       "    </tr>\n",
       "    <tr>\n",
       "      <td>12</td>\n",
       "      <td>1-Jan-02</td>\n",
       "      <td>13</td>\n",
       "      <td>67.60</td>\n",
       "      <td>1194618.25</td>\n",
       "    </tr>\n",
       "    <tr>\n",
       "      <td>13</td>\n",
       "      <td>1-Jan-02</td>\n",
       "      <td>14</td>\n",
       "      <td>68.31</td>\n",
       "      <td>1143796.75</td>\n",
       "    </tr>\n",
       "    <tr>\n",
       "      <td>14</td>\n",
       "      <td>1-Jan-02</td>\n",
       "      <td>15</td>\n",
       "      <td>68.96</td>\n",
       "      <td>1100476.25</td>\n",
       "    </tr>\n",
       "    <tr>\n",
       "      <td>15</td>\n",
       "      <td>1-Jan-02</td>\n",
       "      <td>16</td>\n",
       "      <td>68.41</td>\n",
       "      <td>1080362.75</td>\n",
       "    </tr>\n",
       "    <tr>\n",
       "      <td>16</td>\n",
       "      <td>1-Jan-02</td>\n",
       "      <td>17</td>\n",
       "      <td>66.87</td>\n",
       "      <td>1093315.00</td>\n",
       "    </tr>\n",
       "    <tr>\n",
       "      <td>17</td>\n",
       "      <td>1-Jan-02</td>\n",
       "      <td>18</td>\n",
       "      <td>63.42</td>\n",
       "      <td>1174325.75</td>\n",
       "    </tr>\n",
       "    <tr>\n",
       "      <td>18</td>\n",
       "      <td>1-Jan-02</td>\n",
       "      <td>19</td>\n",
       "      <td>60.72</td>\n",
       "      <td>1318018.50</td>\n",
       "    </tr>\n",
       "    <tr>\n",
       "      <td>19</td>\n",
       "      <td>1-Jan-02</td>\n",
       "      <td>20</td>\n",
       "      <td>59.14</td>\n",
       "      <td>1306252.75</td>\n",
       "    </tr>\n",
       "    <tr>\n",
       "      <td>20</td>\n",
       "      <td>1-Jan-02</td>\n",
       "      <td>21</td>\n",
       "      <td>57.94</td>\n",
       "      <td>1256043.50</td>\n",
       "    </tr>\n",
       "    <tr>\n",
       "      <td>21</td>\n",
       "      <td>1-Jan-02</td>\n",
       "      <td>22</td>\n",
       "      <td>56.66</td>\n",
       "      <td>1178515.00</td>\n",
       "    </tr>\n",
       "    <tr>\n",
       "      <td>22</td>\n",
       "      <td>1-Jan-02</td>\n",
       "      <td>23</td>\n",
       "      <td>55.91</td>\n",
       "      <td>1079274.50</td>\n",
       "    </tr>\n",
       "    <tr>\n",
       "      <td>23</td>\n",
       "      <td>1-Jan-02</td>\n",
       "      <td>24</td>\n",
       "      <td>55.54</td>\n",
       "      <td>970351.75</td>\n",
       "    </tr>\n",
       "  </tbody>\n",
       "</table>\n",
       "</div>"
      ],
      "text/plain": [
       "        Date  Hour  Temperature        Load\n",
       "0   1-Jan-02     1        54.86  1031754.25\n",
       "1   1-Jan-02     2        54.23   996580.00\n",
       "2   1-Jan-02     3        53.72   968291.00\n",
       "3   1-Jan-02     4        53.38   963509.75\n",
       "4   1-Jan-02     5        52.91   983291.25\n",
       "5   1-Jan-02     6        52.51  1029652.50\n",
       "6   1-Jan-02     7        51.80  1100430.00\n",
       "7   1-Jan-02     8        52.08  1192213.75\n",
       "8   1-Jan-02     9        55.28  1282886.75\n",
       "9   1-Jan-02    10        59.47  1307903.00\n",
       "10  1-Jan-02    11        64.05  1288101.50\n",
       "11  1-Jan-02    12        66.52  1247768.00\n",
       "12  1-Jan-02    13        67.60  1194618.25\n",
       "13  1-Jan-02    14        68.31  1143796.75\n",
       "14  1-Jan-02    15        68.96  1100476.25\n",
       "15  1-Jan-02    16        68.41  1080362.75\n",
       "16  1-Jan-02    17        66.87  1093315.00\n",
       "17  1-Jan-02    18        63.42  1174325.75\n",
       "18  1-Jan-02    19        60.72  1318018.50\n",
       "19  1-Jan-02    20        59.14  1306252.75\n",
       "20  1-Jan-02    21        57.94  1256043.50\n",
       "21  1-Jan-02    22        56.66  1178515.00\n",
       "22  1-Jan-02    23        55.91  1079274.50\n",
       "23  1-Jan-02    24        55.54   970351.75"
      ]
     },
     "execution_count": 2,
     "metadata": {},
     "output_type": "execute_result"
    }
   ],
   "source": [
    "df.head(24)"
   ]
  },
  {
   "cell_type": "code",
   "execution_count": 3,
   "metadata": {},
   "outputs": [
    {
     "data": {
      "image/png": "[encoded data removed]",
      "text/plain": [
       "<Figure size 864x720 with 1 Axes>"
      ]
     },
     "metadata": {
      "needs_background": "light"
     },
     "output_type": "display_data"
    }
   ],
   "source": [
    "plt.figure(figsize=(12,10))\n",
    "plt.scatter(df['Temperature'],df['Load'])\n",
    "plt.title('Temperature VS Load',fontsize=15)\n",
    "plt.ylabel('Load')\n",
    "plt.xlabel('Temperature')\n",
    "plt.show()"
   ]
  },
  {
   "cell_type": "markdown",
   "metadata": {},
   "source": [
    "# Applying Linear Regression Model"
   ]
  },
  {
   "cell_type": "markdown",
   "metadata": {},
   "source": [
    "We set the data for training & testing purpose. We have selected all the rows and only Temperature & Load."
   ]
  },
  {
   "cell_type": "code",
   "execution_count": 4,
   "metadata": {},
   "outputs": [],
   "source": [
    "X=df.iloc[:,1:3].values\n",
    "Y=df.iloc[:,3].values"
   ]
  },
  {
   "cell_type": "code",
   "execution_count": 5,
   "metadata": {},
   "outputs": [],
   "source": [
    "#Scikit-learn is a free machine learning library for Python.\n",
    "#It features various algorithmslike support vector machine, random forests, and k-neighbours.\n",
    "#Also supports Python numerical and scientific libraries like NumPy and SciPy."
   ]
  },
  {
   "cell_type": "code",
   "execution_count": 6,
   "metadata": {},
   "outputs": [],
   "source": [
    "from sklearn.model_selection import train_test_split\n",
    "xtrain,xtest,ytrain,ytest=train_test_split(X,Y,test_size=1/3,random_state=0)"
   ]
  },
  {
   "cell_type": "markdown",
   "metadata": {},
   "source": [
    "We recall Linear Regreesion function from sklearn library."
   ]
  },
  {
   "cell_type": "code",
   "execution_count": 7,
   "metadata": {},
   "outputs": [
    {
     "data": {
      "text/plain": [
       "LinearRegression(copy_X=True, fit_intercept=True, n_jobs=None, normalize=False)"
      ]
     },
     "execution_count": 7,
     "metadata": {},
     "output_type": "execute_result"
    }
   ],
   "source": [
    "from sklearn.linear_model import LinearRegression\n",
    "reg=LinearRegression()\n",
    "reg.fit(xtrain,ytrain)"
   ]
  },
  {
   "cell_type": "markdown",
   "metadata": {},
   "source": [
    "We give the command for testing and predicting."
   ]
  },
  {
   "cell_type": "code",
   "execution_count": 8,
   "metadata": {},
   "outputs": [],
   "source": [
    "predicted=reg.predict(xtest)"
   ]
  },
  {
   "cell_type": "code",
   "execution_count": 9,
   "metadata": {},
   "outputs": [
    {
     "data": {
      "text/plain": [
       "array([1193548.2055955 , 1016321.65744966, 1375776.68149244,\n",
       "       1432149.4633588 , 1590573.41697048, 1483899.44806514,\n",
       "       1562429.33800892, 1400283.00642703, 1591656.62898614,\n",
       "       1088334.30052165])"
      ]
     },
     "execution_count": 9,
     "metadata": {},
     "output_type": "execute_result"
    }
   ],
   "source": [
    "predicted[:10]"
   ]
  },
  {
   "cell_type": "code",
   "execution_count": 10,
   "metadata": {},
   "outputs": [
    {
     "data": {
      "text/plain": [
       "array([ 940522.75,  721025.25, 1383331.  , 1138872.  , 1718659.75,\n",
       "       1133032.  , 1974775.25, 1364149.  ,  992579.25, 1464552.  ])"
      ]
     },
     "execution_count": 10,
     "metadata": {},
     "output_type": "execute_result"
    }
   ],
   "source": [
    "ytest[:10]"
   ]
  },
  {
   "cell_type": "code",
   "execution_count": 11,
   "metadata": {},
   "outputs": [
    {
     "data": {
      "text/plain": [
       "array([[ 7.  , 41.84],\n",
       "       [15.  , 77.18],\n",
       "       [ 8.  , 62.57],\n",
       "       ...,\n",
       "       [12.  , 85.97],\n",
       "       [ 1.  , 72.43],\n",
       "       [21.  , 70.16]])"
      ]
     },
     "execution_count": 11,
     "metadata": {},
     "output_type": "execute_result"
    }
   ],
   "source": [
    "xtrain"
   ]
  },
  {
   "cell_type": "markdown",
   "metadata": {},
   "source": [
    "# Making the Forecast"
   ]
  },
  {
   "cell_type": "markdown",
   "metadata": {},
   "source": [
    "We load the 'Fcst.csv' file where the outcome variable & predictor variable is there."
   ]
  },
  {
   "cell_type": "code",
   "execution_count": 12,
   "metadata": {},
   "outputs": [],
   "source": [
    "df1=pd.read_csv(\"Fcst.csv\")"
   ]
  },
  {
   "cell_type": "code",
   "execution_count": 13,
   "metadata": {},
   "outputs": [],
   "source": [
    "dfnew=df1.iloc[:,1:3]"
   ]
  },
  {
   "cell_type": "markdown",
   "metadata": {},
   "source": [
    "We set the variable 'newpred' for forecasting purpose. "
   ]
  },
  {
   "cell_type": "code",
   "execution_count": 14,
   "metadata": {},
   "outputs": [],
   "source": [
    "newpred=reg.predict(dfnew)"
   ]
  },
  {
   "cell_type": "code",
   "execution_count": 15,
   "metadata": {},
   "outputs": [],
   "source": [
    "newpred=newpred.astype(int)"
   ]
  },
  {
   "cell_type": "code",
   "execution_count": 16,
   "metadata": {},
   "outputs": [
    {
     "data": {
      "text/plain": [
       "array([ 963098,  984605, 1006581, ..., 1579035, 1597256, 1615478])"
      ]
     },
     "execution_count": 16,
     "metadata": {},
     "output_type": "execute_result"
    }
   ],
   "source": [
    "newpred"
   ]
  },
  {
   "cell_type": "markdown",
   "metadata": {},
   "source": [
    "Now the forecasting is done, we recall the function to convert the array to .csv file."
   ]
  },
  {
   "cell_type": "code",
   "execution_count": 17,
   "metadata": {},
   "outputs": [],
   "source": [
    "import numpy as np\n",
    "np.savetxt('array.csv', newpred, delimiter=',', fmt='%d')"
   ]
  },
  {
   "cell_type": "markdown",
   "metadata": {},
   "source": [
    "Hence a new array.csv file is generated with the 8760 load forecast values for year 2006."
   ]
  },
  {
   "cell_type": "code",
   "execution_count": null,
   "metadata": {},
   "outputs": [],
   "source": []
  }
 ],
 "metadata": {
  "kernelspec": {
   "display_name": "Python 3",
   "language": "python",
   "name": "python3"
  },
  "language_info": {
   "codemirror_mode": {
    "name": "ipython",
    "version": 3
   },
   "file_extension": ".py",
   "mimetype": "text/x-python",
   "name": "python",
   "nbconvert_exporter": "python",
   "pygments_lexer": "ipython3",
   "version": "3.7.4"
  }
 },
 "nbformat": 4,
 "nbformat_minor": 2
}

{
 "cells": [
  {
   "cell_type": "markdown",
   "metadata": {},
   "source": [
    "### 1- Read the file"
   ]
  },
  {
   "cell_type": "code",
   "execution_count": 1,
   "metadata": {},
   "outputs": [],
   "source": [
    "import numpy as np\n",
    "import pandas as pd\n",
    "\n",
    "df=pd.read_csv(\"history.csv\")"
   ]
  },
  {
   "cell_type": "code",
   "execution_count": 2,
   "metadata": {},
   "outputs": [
    {
     "data": {
      "text/html": [
       "<div>\n",
       "<style scoped>\n",
       "    .dataframe tbody tr th:only-of-type {\n",
       "        vertical-align: middle;\n",
       "    }\n",
       "\n",
       "    .dataframe tbody tr th {\n",
       "        vertical-align: top;\n",
       "    }\n",
       "\n",
       "    .dataframe thead th {\n",
       "        text-align: right;\n",
       "    }\n",
       "</style>\n",
       "<table border=\"1\" class=\"dataframe\">\n",
       "  <thead>\n",
       "    <tr style=\"text-align: right;\">\n",
       "      <th></th>\n",
       "      <th>Hour</th>\n",
       "      <th>Temperature</th>\n",
       "      <th>Load</th>\n",
       "    </tr>\n",
       "  </thead>\n",
       "  <tbody>\n",
       "    <tr>\n",
       "      <td>0</td>\n",
       "      <td>1</td>\n",
       "      <td>43.72</td>\n",
       "      <td>1384494.0</td>\n",
       "    </tr>\n",
       "    <tr>\n",
       "      <td>1</td>\n",
       "      <td>2</td>\n",
       "      <td>42.72</td>\n",
       "      <td>1392822.0</td>\n",
       "    </tr>\n",
       "    <tr>\n",
       "      <td>2</td>\n",
       "      <td>3</td>\n",
       "      <td>41.84</td>\n",
       "      <td>1407887.0</td>\n",
       "    </tr>\n",
       "    <tr>\n",
       "      <td>3</td>\n",
       "      <td>4</td>\n",
       "      <td>41.04</td>\n",
       "      <td>1438658.0</td>\n",
       "    </tr>\n",
       "    <tr>\n",
       "      <td>4</td>\n",
       "      <td>5</td>\n",
       "      <td>40.56</td>\n",
       "      <td>1484046.0</td>\n",
       "    </tr>\n",
       "  </tbody>\n",
       "</table>\n",
       "</div>"
      ],
      "text/plain": [
       "   Hour  Temperature       Load\n",
       "0     1        43.72  1384494.0\n",
       "1     2        42.72  1392822.0\n",
       "2     3        41.84  1407887.0\n",
       "3     4        41.04  1438658.0\n",
       "4     5        40.56  1484046.0"
      ]
     },
     "execution_count": 2,
     "metadata": {},
     "output_type": "execute_result"
    }
   ],
   "source": [
    "df.head(5)"
   ]
  },
  {
   "cell_type": "code",
   "execution_count": 3,
   "metadata": {},
   "outputs": [
    {
     "data": {
      "text/html": [
       "<div>\n",
       "<style scoped>\n",
       "    .dataframe tbody tr th:only-of-type {\n",
       "        vertical-align: middle;\n",
       "    }\n",
       "\n",
       "    .dataframe tbody tr th {\n",
       "        vertical-align: top;\n",
       "    }\n",
       "\n",
       "    .dataframe thead th {\n",
       "        text-align: right;\n",
       "    }\n",
       "</style>\n",
       "<table border=\"1\" class=\"dataframe\">\n",
       "  <thead>\n",
       "    <tr style=\"text-align: right;\">\n",
       "      <th></th>\n",
       "      <th>Hour</th>\n",
       "      <th>Temperature</th>\n",
       "      <th>Load</th>\n",
       "    </tr>\n",
       "  </thead>\n",
       "  <tbody>\n",
       "    <tr>\n",
       "      <td>35059</td>\n",
       "      <td>20</td>\n",
       "      <td>64.12</td>\n",
       "      <td>1409813.0</td>\n",
       "    </tr>\n",
       "    <tr>\n",
       "      <td>35060</td>\n",
       "      <td>21</td>\n",
       "      <td>62.88</td>\n",
       "      <td>1309493.0</td>\n",
       "    </tr>\n",
       "    <tr>\n",
       "      <td>35061</td>\n",
       "      <td>22</td>\n",
       "      <td>61.80</td>\n",
       "      <td>1217706.0</td>\n",
       "    </tr>\n",
       "    <tr>\n",
       "      <td>35062</td>\n",
       "      <td>23</td>\n",
       "      <td>61.16</td>\n",
       "      <td>1127940.0</td>\n",
       "    </tr>\n",
       "    <tr>\n",
       "      <td>35063</td>\n",
       "      <td>24</td>\n",
       "      <td>60.80</td>\n",
       "      <td>1047116.0</td>\n",
       "    </tr>\n",
       "  </tbody>\n",
       "</table>\n",
       "</div>"
      ],
      "text/plain": [
       "       Hour  Temperature       Load\n",
       "35059    20        64.12  1409813.0\n",
       "35060    21        62.88  1309493.0\n",
       "35061    22        61.80  1217706.0\n",
       "35062    23        61.16  1127940.0\n",
       "35063    24        60.80  1047116.0"
      ]
     },
     "execution_count": 3,
     "metadata": {},
     "output_type": "execute_result"
    }
   ],
   "source": [
    "df.tail(5)"
   ]
  },
  {
   "cell_type": "code",
   "execution_count": 23,
   "metadata": {},
   "outputs": [
    {
     "data": {
      "image/png": "[encoded data removed]",
      "text/plain": [
       "<Figure size 864x720 with 1 Axes>"
      ]
     },
     "metadata": {
      "needs_background": "light"
     },
     "output_type": "display_data"
    }
   ],
   "source": [
    "import matplotlib.pyplot as plt\n",
    "import seaborn as sb\n",
    "plt.figure(figsize=(12,10))\n",
    "plt.scatter(df['Hour'],df['Temperature'])\n",
    "plt.title('Hour VS Temperature',fontsize=15)\n",
    "plt.ylabel('Temperature')\n",
    "plt.xlabel('Hour')\n",
    "plt.show()"
   ]
  },
  {
   "cell_type": "markdown",
   "metadata": {},
   "source": [
    "### 2 - Create train and test set"
   ]
  },
  {
   "cell_type": "code",
   "execution_count": 5,
   "metadata": {},
   "outputs": [],
   "source": [
    "X=df.iloc[:,0:2].values\n",
    "Y=df.iloc[:,2].values"
   ]
  },
  {
   "cell_type": "code",
   "execution_count": 6,
   "metadata": {},
   "outputs": [],
   "source": [
    "from sklearn.model_selection import train_test_split\n",
    "xtrain,xtest,ytrain,ytest=train_test_split(X,Y,test_size=1/3,random_state=0)"
   ]
  },
  {
   "cell_type": "markdown",
   "metadata": {},
   "source": [
    "### 3 - Error rate for different k values"
   ]
  },
  {
   "cell_type": "code",
   "execution_count": 7,
   "metadata": {},
   "outputs": [],
   "source": [
    "# import required packages\n",
    "\n",
    "from sklearn import neighbors\n",
    "from sklearn.metrics import mean_squared_error \n",
    "from math import sqrt\n",
    "import matplotlib.pyplot as plt\n",
    "%matplotlib inline"
   ]
  },
  {
   "cell_type": "code",
   "execution_count": 8,
   "metadata": {},
   "outputs": [
    {
     "name": "stdout",
     "output_type": "stream",
     "text": [
      "RMSE value for k=  1 is: 176930.55780715542\n",
      "RMSE value for k=  2 is: 154649.52453350995\n",
      "RMSE value for k=  3 is: 145452.31486904953\n",
      "RMSE value for k=  4 is: 140738.43918351285\n",
      "RMSE value for k=  5 is: 137761.08952254642\n",
      "RMSE value for k=  6 is: 135807.78784339133\n",
      "RMSE value for k=  7 is: 134538.5126487041\n",
      "RMSE value for k=  8 is: 133490.6458304449\n",
      "RMSE value for k=  9 is: 132387.30476327537\n",
      "RMSE value for k=  10 is: 131748.23270456272\n",
      "RMSE value for k=  11 is: 131476.919552738\n",
      "RMSE value for k=  12 is: 130848.63630795322\n",
      "RMSE value for k=  13 is: 130315.91000882782\n",
      "RMSE value for k=  14 is: 129966.41437764531\n",
      "RMSE value for k=  15 is: 129517.80237415918\n",
      "RMSE value for k=  16 is: 129234.90971591802\n",
      "RMSE value for k=  17 is: 129004.49398016457\n",
      "RMSE value for k=  18 is: 128884.85599026046\n",
      "RMSE value for k=  19 is: 128605.54104102725\n",
      "RMSE value for k=  20 is: 128456.78109217172\n",
      "RMSE value for k=  21 is: 128222.69609726859\n",
      "RMSE value for k=  22 is: 128152.68317887488\n",
      "RMSE value for k=  23 is: 128017.30457148781\n",
      "RMSE value for k=  24 is: 127954.56831422215\n",
      "RMSE value for k=  25 is: 127881.94634520655\n",
      "RMSE value for k=  26 is: 127750.3942173373\n",
      "RMSE value for k=  27 is: 127777.34274653463\n",
      "RMSE value for k=  28 is: 127749.31582648556\n",
      "RMSE value for k=  29 is: 127712.52724859506\n",
      "RMSE value for k=  30 is: 127665.45593007458\n",
      "RMSE value for k=  31 is: 127636.38208673839\n",
      "RMSE value for k=  32 is: 127585.73496903146\n",
      "RMSE value for k=  33 is: 127551.83788015161\n",
      "RMSE value for k=  34 is: 127485.42978344308\n",
      "RMSE value for k=  35 is: 127505.78370169658\n",
      "RMSE value for k=  36 is: 127514.23862043355\n",
      "RMSE value for k=  37 is: 127546.04280246899\n",
      "RMSE value for k=  38 is: 127499.03465066006\n",
      "RMSE value for k=  39 is: 127512.38382679582\n",
      "RMSE value for k=  40 is: 127476.0270074124\n",
      "RMSE value for k=  41 is: 127480.50637956607\n",
      "RMSE value for k=  42 is: 127385.0457628203\n",
      "RMSE value for k=  43 is: 127437.974870642\n",
      "RMSE value for k=  44 is: 127380.64889474574\n",
      "RMSE value for k=  45 is: 127423.73138611548\n",
      "RMSE value for k=  46 is: 127479.32965893076\n",
      "RMSE value for k=  47 is: 127464.1952835732\n",
      "RMSE value for k=  48 is: 127487.45891753142\n",
      "RMSE value for k=  49 is: 127497.88100605564\n",
      "RMSE value for k=  50 is: 127440.3917151435\n",
      "RMSE value for k=  51 is: 127434.49976187515\n",
      "RMSE value for k=  52 is: 127425.75727613906\n",
      "RMSE value for k=  53 is: 127395.45535637936\n",
      "RMSE value for k=  54 is: 127392.45373065301\n",
      "RMSE value for k=  55 is: 127404.42838434677\n",
      "RMSE value for k=  56 is: 127386.87511929129\n",
      "RMSE value for k=  57 is: 127426.38321500104\n",
      "RMSE value for k=  58 is: 127424.13739522806\n",
      "RMSE value for k=  59 is: 127444.00167796346\n",
      "RMSE value for k=  60 is: 127436.11775516876\n",
      "RMSE value for k=  61 is: 127424.54472629684\n",
      "RMSE value for k=  62 is: 127465.2678952664\n",
      "RMSE value for k=  63 is: 127492.37827598877\n",
      "RMSE value for k=  64 is: 127549.2555055377\n",
      "RMSE value for k=  65 is: 127579.6163442761\n",
      "RMSE value for k=  66 is: 127593.57932396558\n",
      "RMSE value for k=  67 is: 127612.54826146389\n",
      "RMSE value for k=  68 is: 127634.29756489639\n",
      "RMSE value for k=  69 is: 127639.76708292919\n",
      "RMSE value for k=  70 is: 127656.98325700166\n",
      "RMSE value for k=  71 is: 127681.57953374286\n",
      "RMSE value for k=  72 is: 127742.04880083866\n",
      "RMSE value for k=  73 is: 127727.87057755071\n",
      "RMSE value for k=  74 is: 127772.65016736294\n",
      "RMSE value for k=  75 is: 127811.0472738234\n",
      "RMSE value for k=  76 is: 127812.35956691804\n",
      "RMSE value for k=  77 is: 127837.83769608232\n",
      "RMSE value for k=  78 is: 127876.92054230483\n",
      "RMSE value for k=  79 is: 127890.30579070777\n",
      "RMSE value for k=  80 is: 127930.63364646518\n",
      "RMSE value for k=  81 is: 127956.92547202729\n",
      "RMSE value for k=  82 is: 128018.07123973234\n",
      "RMSE value for k=  83 is: 128019.16816008539\n",
      "RMSE value for k=  84 is: 128021.02343936227\n",
      "RMSE value for k=  85 is: 128044.51197966527\n",
      "RMSE value for k=  86 is: 128097.79800724279\n",
      "RMSE value for k=  87 is: 128136.74268271243\n",
      "RMSE value for k=  88 is: 128149.05930329795\n",
      "RMSE value for k=  89 is: 128177.90939823964\n",
      "RMSE value for k=  90 is: 128211.44721302016\n",
      "RMSE value for k=  91 is: 128209.5907427358\n",
      "RMSE value for k=  92 is: 128246.41480487917\n",
      "RMSE value for k=  93 is: 128248.32830140869\n",
      "RMSE value for k=  94 is: 128275.24699386864\n",
      "RMSE value for k=  95 is: 128312.2963884713\n",
      "RMSE value for k=  96 is: 128351.05395809242\n",
      "RMSE value for k=  97 is: 128381.10838759641\n",
      "RMSE value for k=  98 is: 128392.20938908235\n",
      "RMSE value for k=  99 is: 128446.01344268025\n",
      "RMSE value for k=  100 is: 128458.04969091223\n"
     ]
    }
   ],
   "source": [
    "rmse_val = [] # to store rmse values for different k\n",
    "for K in range(100):\n",
    "    K = K+1\n",
    "    model = neighbors.KNeighborsRegressor(n_neighbors = K)\n",
    "\n",
    "    model.fit(xtrain, ytrain)  # fit the model\n",
    "    pred=model.predict(xtest) # make prediction on test set\n",
    "    error = sqrt(mean_squared_error(ytest,pred)) # calculate rmse\n",
    "    rmse_val.append(error) # store rmse values\n",
    "    print('RMSE value for k= ' , K , 'is:', error)"
   ]
  },
  {
   "cell_type": "code",
   "execution_count": 9,
   "metadata": {},
   "outputs": [
    {
     "data": {
      "text/plain": [
       "<matplotlib.axes._subplots.AxesSubplot at 0x17682477948>"
      ]
     },
     "execution_count": 9,
     "metadata": {},
     "output_type": "execute_result"
    },
    {
     "data": {
      "image/png": "[encoded data removed]",
      "text/plain": [
       "<Figure size 432x288 with 1 Axes>"
      ]
     },
     "metadata": {
      "needs_background": "light"
     },
     "output_type": "display_data"
    }
   ],
   "source": [
    "#plotting the rmse values against k values\n",
    "curve = pd.DataFrame(rmse_val) #elbow curve \n",
    "curve.plot()"
   ]
  },
  {
   "cell_type": "code",
   "execution_count": 10,
   "metadata": {},
   "outputs": [
    {
     "data": {
      "text/plain": [
       "(array([43], dtype=int64),)"
      ]
     },
     "execution_count": 10,
     "metadata": {},
     "output_type": "execute_result"
    }
   ],
   "source": [
    "np.where(curve[0]==min(curve[0])) # Find the lowest value for K from the plot above"
   ]
  },
  {
   "cell_type": "markdown",
   "metadata": {},
   "source": [
    "### 4 - Predictions on the test dataset"
   ]
  },
  {
   "cell_type": "code",
   "execution_count": 11,
   "metadata": {},
   "outputs": [
    {
     "data": {
      "text/plain": [
       "KNeighborsRegressor(algorithm='auto', leaf_size=30, metric='minkowski',\n",
       "                    metric_params=None, n_jobs=None, n_neighbors=44, p=2,\n",
       "                    weights='uniform')"
      ]
     },
     "execution_count": 11,
     "metadata": {},
     "output_type": "execute_result"
    }
   ],
   "source": [
    "from sklearn.neighbors import KNeighborsRegressor\n",
    "KNR = KNeighborsRegressor(44)\n",
    "KNR.fit(xtrain, ytrain)"
   ]
  },
  {
   "cell_type": "code",
   "execution_count": 12,
   "metadata": {},
   "outputs": [],
   "source": [
    "predicted=KNR.predict(xtest)"
   ]
  },
  {
   "cell_type": "code",
   "execution_count": 13,
   "metadata": {},
   "outputs": [
    {
     "data": {
      "text/plain": [
       "array([ 716779.95454545, 1922161.22727273,  799157.54545455, ...,\n",
       "       1535110.        , 1666994.22727273, 1313737.18181818])"
      ]
     },
     "execution_count": 13,
     "metadata": {},
     "output_type": "execute_result"
    }
   ],
   "source": [
    "predicted"
   ]
  },
  {
   "cell_type": "code",
   "execution_count": 14,
   "metadata": {},
   "outputs": [
    {
     "data": {
      "text/plain": [
       "(11688,)"
      ]
     },
     "execution_count": 14,
     "metadata": {},
     "output_type": "execute_result"
    }
   ],
   "source": [
    "ytest.shape"
   ]
  },
  {
   "cell_type": "code",
   "execution_count": 15,
   "metadata": {},
   "outputs": [
    {
     "data": {
      "text/plain": [
       "(35064, 2)"
      ]
     },
     "execution_count": 15,
     "metadata": {},
     "output_type": "execute_result"
    }
   ],
   "source": [
    "X.shape"
   ]
  },
  {
   "cell_type": "code",
   "execution_count": 16,
   "metadata": {},
   "outputs": [
    {
     "data": {
      "text/plain": [
       "11688"
      ]
     },
     "execution_count": 16,
     "metadata": {},
     "output_type": "execute_result"
    }
   ],
   "source": [
    "len(predicted)"
   ]
  },
  {
   "cell_type": "code",
   "execution_count": 17,
   "metadata": {},
   "outputs": [
    {
     "data": {
      "text/plain": [
       "array([ 646544., 2146453.,  856007., ..., 1477031., 1888273., 1117868.])"
      ]
     },
     "execution_count": 17,
     "metadata": {},
     "output_type": "execute_result"
    }
   ],
   "source": [
    "ytest"
   ]
  },
  {
   "cell_type": "markdown",
   "metadata": {},
   "source": [
    "### 5- Forecasting"
   ]
  },
  {
   "cell_type": "code",
   "execution_count": 18,
   "metadata": {},
   "outputs": [],
   "source": [
    "df1=pd.read_csv(\"fcst.csv\")"
   ]
  },
  {
   "cell_type": "code",
   "execution_count": 19,
   "metadata": {},
   "outputs": [],
   "source": [
    "dfnew=df1.iloc[:,0:2]"
   ]
  },
  {
   "cell_type": "code",
   "execution_count": 20,
   "metadata": {},
   "outputs": [],
   "source": [
    "newpred=KNR.predict(dfnew)"
   ]
  },
  {
   "cell_type": "code",
   "execution_count": 21,
   "metadata": {},
   "outputs": [],
   "source": [
    "newpred=newpred.astype(int)"
   ]
  },
  {
   "cell_type": "code",
   "execution_count": 22,
   "metadata": {},
   "outputs": [],
   "source": [
    "np.savetxt('array.csv', newpred, delimiter=',', fmt='%d')"
   ]
  },
  {
   "cell_type": "code",
   "execution_count": null,
   "metadata": {},
   "outputs": [],
   "source": []
  }
 ],
 "metadata": {
  "kernelspec": {
   "display_name": "Python 3",
   "language": "python",
   "name": "python3"
  },
  "language_info": {
   "codemirror_mode": {
    "name": "ipython",
    "version": 3
   },
   "file_extension": ".py",
   "mimetype": "text/x-python",
   "name": "python",
   "nbconvert_exporter": "python",
   "pygments_lexer": "ipython3",
   "version": "3.7.4"
  }
 },
 "nbformat": 4,
 "nbformat_minor": 2
}
